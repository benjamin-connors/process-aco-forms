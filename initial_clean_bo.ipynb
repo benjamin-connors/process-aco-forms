{
 "cells": [
  {
   "cell_type": "markdown",
   "id": "9b5dc376-67f4-4f82-b597-ec63e664a761",
   "metadata": {},
   "source": [
    "#Cleaning script for incoming DM form. Process to include:\n",
    "# a) First clean and renaming of columns from raw form\n",
    "# b) filter by watershed and ACO flight number\n",
    "# c) Adding of coordinate information and importing of GNSS data "
   ]
  },
  {
   "cell_type": "code",
   "execution_count": 2,
   "id": "5d84777f-6559-4741-b086-7e77a858fc37",
   "metadata": {
    "tags": []
   },
   "outputs": [],
   "source": [
    "#import libraries\n",
    "import numpy as np\n",
    "import pandas as pd\n",
    "import os\n",
    "import matplotlib.pyplot as plt"
   ]
  },
  {
   "cell_type": "code",
   "execution_count": 72,
   "id": "d11a64d8-be76-4a0b-9312-11296d2505fb",
   "metadata": {
    "tags": []
   },
   "outputs": [],
   "source": [
    "#flight/phase number? (AUTOMATE?)\n",
    "flt_no = '1'\n",
    "\n",
    "#open the raw csv, select specific columns to keep, drop additional columns\n",
    "path = r\"G:\\ACO\\2024\"\n",
    "# data = pd.read_csv(path + r\"\\1_scripts\\working\\p1\\CRU_24_P01.csv\", encoding='mac-roman')\n",
    "\n",
    "df = pd.read_csv(\"CRU_24_P01.csv\")"
   ]
  },
  {
   "cell_type": "code",
   "execution_count": 73,
   "id": "366e77a1-1d6b-43b6-8600-c531d4ba9e7d",
   "metadata": {
    "tags": []
   },
   "outputs": [],
   "source": [
    "# define columns to keep and new column names\n",
    "cols2keep = [\"Survey_Start_Time\",\n",
    "          \"username\", \n",
    "          \"Study_Area\", \n",
    "          \"Other_Study_Area\", \n",
    "          \"User_s_\", \n",
    "          \"Plot_ID\", \n",
    "          \"Tube_Name\", \n",
    "          \"Pre_Survey_Notes\", \n",
    "          \"GNSS_Used_\", \n",
    "          \"GNSS_Setup\", \n",
    "          \"Other_GNSS_Setup\",\n",
    "          \"GNSS_Status\",\n",
    "          \"GNSS_Height_Rover_to_Snow__cm_\", \n",
    "          \"Tare_Weight__g_\",\n",
    "          \"Type_of_Plot\", \n",
    "          \"Point_Observation.Cardinal_Direction\", \n",
    "          \"Point_Observation.Distance_From_Centre__m_\",\n",
    "          \"Point_Observation.Custom_Distance_From_Centre__m_\",\n",
    "          \"Point_Observation.Plot_Features\", \n",
    "          \"Point_Observation.Sample_Type\", \n",
    "          \"Point_Observation.Depth__cm_\", \n",
    "          \"Point_Observation.Depth__cm_:timestamp\", \n",
    "          \"Point_Observation.Depth_Final__cm_\",\n",
    "          \"Point_Observation.Core_Length__cm_\", \n",
    "          \"Point_Observation.Plug__cm_\", \n",
    "          \"Point_Observation.Mass___Tube__g_\",\n",
    "          \"Point_Observation.Multi_Part_Core_\",\n",
    "          \"Point_Observation.Multi_Part_Core_Section_Number\", \n",
    "          \"Point_Observation.Additional_Measurements.Multi_Part_Core_Section_Number_copy\",\n",
    "          \"Point_Observation.Additional_Measurements.New_Depth__cm_\", \n",
    "          \"Point_Observation.Additional_Measurements.New_Depth__cm_:timestamp\", \n",
    "          \"Point_Observation.Additional_Measurements.Core_Section_Length__cm_\",\n",
    "          \"Point_Observation.Additional_Measurements.Plug_\", \n",
    "          \"Point_Observation.Additional_Measurements.Mass___Tube\", \n",
    "          \"Point_Observation.Core_Length_Final__cm_\",\n",
    "          \"Point_Observation.Core_Features\", \n",
    "          \"Point_Observation.Depth_of_Saturation\", \n",
    "          \"Point_Observation.Mass_Final__g_\", \n",
    "          \"Point_Observation.Depth_Max\",\n",
    "          \"Point_Observation.Retrieval____\", \n",
    "          \"Point_Observation.SWE__cm_\", \n",
    "          \"Point_Observation.Density\", \n",
    "          \"Point_Observation.Sample_Rating\", \n",
    "          \"Point_Observation.Point_Observation_Notes\", \n",
    "          \"Snow_Pit_Measurement.Distance_from_centre_of_plot__m_\", \n",
    "          \"Snow_Pit_Measurement.Depth_above_ground__cm_\", \n",
    "          \"Snow_Pit_Measurement.Temperature___C_\",\n",
    "          \"Snow_Pit_Measurement.Density_Notes\", \n",
    "          \"Survey_End_TIme\"]\n",
    "\n",
    "new_colnames = [\"plot_datetime\",\n",
    "                    \"user_name\",\n",
    "                    \"study_area\",\n",
    "                    \"other_study_area\",\n",
    "                    \"users\",\n",
    "                    \"plot_id\",\n",
    "                    \"tube_name\",\n",
    "                    \"pre_survey_notes\",\n",
    "                    \"gnss_unit\",\n",
    "                    \"gnss_setup\",\n",
    "                    \"other_gnss_setup\",\n",
    "                    \"gnss_status\",\n",
    "                    \"rover_height\",\n",
    "                    \"tare_weight_g\",\n",
    "                    \"plot_type\",\n",
    "                    \"cardinal\",\n",
    "                    \"distance_m\",\n",
    "                    \"custom_distance\",\n",
    "                    \"plot_features\",\n",
    "                    \"sample_type\",\n",
    "                    \"depth_cm\",\n",
    "                    \"depth_timestamp\",\n",
    "                    \"depth_final_cm\",\n",
    "                    \"core_length_cm\",\n",
    "                    \"plug_cm\",\n",
    "                    \"mass_tube_g\",\n",
    "                    \"multi_core\",\n",
    "                    \"multi_part_core_num\",\n",
    "                    \"multi_core_num_copy\",\n",
    "                    \"depth_cm_new\",\n",
    "                    \"depth_cm_timestamp_new\",\n",
    "                    \"core_section_length_cm\",\n",
    "                    \"plug_cm_copy\",\n",
    "                    \"mass_tube_g_new\",\n",
    "                    \"core_length_final\",\n",
    "                    \"core_features\",\n",
    "                    \"depth_of_saturation\",\n",
    "                    \"mass_final_g\",\n",
    "                    \"depth_max\",\n",
    "                    \"retrieval\",\n",
    "                    \"swe_cm\",\n",
    "                    \"density\",\n",
    "                    \"sample_rating\",\n",
    "                    \"notes\",\n",
    "                    \"snow_pit_distance_from_centre\",\n",
    "                    \"snow_pit_depth_above_ground\",\n",
    "                    \"snow_pit_temperature\",\n",
    "                    \"snow_pit_density\",\n",
    "                    \"survey_end\"]"
   ]
  },
  {
   "cell_type": "code",
   "execution_count": 74,
   "id": "13af5800-6c44-4756-98f3-b1358b001893",
   "metadata": {
    "tags": []
   },
   "outputs": [],
   "source": [
    "# extract and rename columns\n",
    "df = df[cols2keep].set_axis(new_colnames, axis='columns')\n",
    "#  add ACO flight no.\n",
    "df.insert(0, 'aco_flight_number', str(flt_no))"
   ]
  },
  {
   "cell_type": "markdown",
   "id": "0025140a-c2cb-4349-8685-59a9d4c079f3",
   "metadata": {},
   "source": [
    "#Take the cleaned form and filter out by watershed\n",
    "#export summary statistics"
   ]
  },
  {
   "cell_type": "code",
   "execution_count": 75,
   "id": "2ec33cbd-15c4-4eef-b143-fa81a581b736",
   "metadata": {
    "tags": []
   },
   "outputs": [],
   "source": [
    "# fill nan depths with 0\n",
    "df[['depth_final_cm', 'depth_max']] = df[['depth_final_cm', 'depth_max']].fillna(value=0)\n",
    "# calculate and add snow depth\n",
    "df = df.insert(25, 'snow_depth', df.loc[:, 'depth_final_cm'] + df.loc[:, 'depth_max'])"
   ]
  },
  {
   "cell_type": "code",
   "execution_count": 32,
   "id": "1b53babe",
   "metadata": {},
   "outputs": [],
   "source": [
    "#export the clean raw device magic form to a csv\n",
    "df.to_csv(\"processing_data\\DM_trip\" + str(flt_no) + \"_clean_cru.csv\", index = False)"
   ]
  },
  {
   "cell_type": "code",
   "execution_count": 33,
   "id": "a77a5f28-2b6a-4e18-b324-b4c719c52c69",
   "metadata": {},
   "outputs": [],
   "source": [
    "#filter by watershed: \"Russell Creek\", \"Cruickshank\", \"Englishman\", or \"Metro Vancouver\"\n",
    "cru_df = df[df['study_area'] == 'Cruickshank']\n",
    "eng_df = df[df['study_area'] == 'Englishman']\n",
    "rus_df = df[df['study_area'] == 'Russell Creek']\n",
    "mv_df = df[df['study_area'] == 'Metro Vancouver']"
   ]
  },
  {
   "cell_type": "code",
   "execution_count": 35,
   "id": "0c6f2c55-c20d-4806-919b-4071357cce5e",
   "metadata": {},
   "outputs": [],
   "source": [
    "#group by \"plot_id\", export csv of summary stats for snow. \n",
    "#Stats that are nice to include are: \n",
    "#snow depth:count, average, st dev; density: count, avg, st dev, & SWE : count, avg, st.dev\n",
    "\n",
    "###CRUICKSHANK###\n",
    "\n",
    "cru_sum = cru_df.groupby(['aco_flight_number',\n",
    "    'plot_id']).agg({\n",
    "    \"snow_depth\": [\"mean\", \"median\", \"std\", \"count\"],\n",
    "    \"density\": [\"mean\", \"median\", \"std\", \"count\"],\n",
    "    \"swe_cm\": [\"mean\", \"median\", \"std\", \"count\"]\n",
    "})\n",
    "\n",
    "#check if directory exists\n",
    "if not os.path.isdir(path + r\"\\Cruickshank\\4_field_data\\plots\\working\\P\" + str(flt_no)):\n",
    "    #if the folder path is not presnet, then create it\n",
    "    os.makedirs(path + r\"\\Cruickshank\\4_field_data\\plots\\working\\P\" + str(flt_no))\n",
    "    \n",
    "#Export the filtered summary stats to created folder\n",
    "cru_sum.to_csv(path + \"\\Cruickshank\\\\4_field_data\\plots\\working\\P\" + str(flt_no) + \"\\DM_trip\" + str(flt_no) +\"_cru_sum.csv\", index = True)"
   ]
  },
  {
   "cell_type": "code",
   "execution_count": 23,
   "id": "ab65e491-bb74-4cb2-9d4a-f265561e30f8",
   "metadata": {},
   "outputs": [],
   "source": [
    "###ENGLISHMAN###\n",
    "\n",
    "eng_sum = eng_df.groupby(['aco_flight_number',\n",
    "    'plot_id']).agg({\n",
    "    \"snow_depth\": [\"mean\", \"median\", \"std\", \"count\"],\n",
    "    \"density\": [\"mean\", \"median\", \"std\", \"count\"],\n",
    "    \"swe_cm\": [\"mean\", \"median\", \"std\", \"count\"]\n",
    "})\n",
    "\n",
    "#check if directory exists\n",
    "if not os.path.isdir(path + r\"\\Englishman\\4_field_data\\plots\\working\\P\" + str(flt_no)):\n",
    "    #if the folder path is not presnet, then create it\n",
    "    os.makedirs(path + r\"\\Englishman\\4_field_data\\plots\\working\\P\" + str(flt_no))\n",
    "    \n",
    "#Export the filtered summary stats to created folder\n",
    "eng_sum.to_csv(path + \"\\Englishman\\\\4_field_data\\plots\\working\\P\" + str(flt_no) + \"\\DM_trip\" + str(flt_no) +\"_eng_sum.csv\", index = True)"
   ]
  },
  {
   "cell_type": "code",
   "execution_count": 17,
   "id": "fb3b5dce-cb93-4fb4-a420-87946de64024",
   "metadata": {},
   "outputs": [],
   "source": [
    "###TSITIKA####\n",
    "rus_sum = rus_df.groupby(['aco_flight_number',\n",
    "    'plot_id']).agg({\n",
    "    \"snow_depth\": [\"mean\", \"median\", \"std\", \"count\"],\n",
    "    \"density\": [\"mean\", \"median\", \"std\", \"count\"],\n",
    "    \"swe_cm\": [\"mean\", \"median\", \"std\", \"count\"]\n",
    "})\n",
    "\n",
    "#check if directory exists\n",
    "if not os.path.isdir(path + r\"\\Tsitika\\4_field_data\\plots\\working\\P\" + str(flt_no)):\n",
    "    #if the folder path is not presnet, then create it\n",
    "    os.makedirs(path + r\"\\Tsitika\\4_field_data\\plots\\working\\P\" + str(flt_no))\n",
    "    \n",
    "#Export the filtered summary stats to created folder\n",
    "rus_sum.to_csv(path + \"\\Tsitika\\\\4_field_data\\plots\\working\\P\" + str(flt_no) + \"\\DM_trip\" + str(flt_no) +\"_rus_sum.csv\", index = True)"
   ]
  },
  {
   "cell_type": "code",
   "execution_count": null,
   "id": "1bd2bab0",
   "metadata": {},
   "outputs": [],
   "source": []
  }
 ],
 "metadata": {
  "kernelspec": {
   "display_name": "Python [conda env:chrl]",
   "language": "python",
   "name": "conda-env-chrl-py"
  },
  "language_info": {
   "codemirror_mode": {
    "name": "ipython",
    "version": 3
   },
   "file_extension": ".py",
   "mimetype": "text/x-python",
   "name": "python",
   "nbconvert_exporter": "python",
   "pygments_lexer": "ipython3",
   "version": "3.12.3"
  }
 },
 "nbformat": 4,
 "nbformat_minor": 5
}
