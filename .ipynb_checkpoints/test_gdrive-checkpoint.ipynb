{
 "cells": [
  {
   "cell_type": "code",
   "execution_count": 6,
   "id": "801808ca-73c1-4257-aabd-279943d2c762",
   "metadata": {
    "tags": []
   },
   "outputs": [],
   "source": [
    "import gspread\n",
    "import pandas as pd\n",
    "\n",
    "study\n",
    "\n",
    "gc = gspread.oauth(credentials_filename='C:/Users/OCONNORB/AppData/Local/gspread/credentials.json')\n",
    "sh = gc.open(\"Weather Station Visit Form\")"
   ]
  },
  {
   "cell_type": "code",
   "execution_count": 41,
   "id": "a699a676-d356-4fe2-821d-fd9f2c7331d0",
   "metadata": {
    "tags": []
   },
   "outputs": [],
   "source": [
    "station = 'Steph 6'\n",
    "\n",
    "\n",
    "# pull wx station visit sheet and put in dataframe\n",
    "worksheet = sh.sheet1;\n",
    "df = pd.DataFrame(worksheet.get_all_records())\n"
   ]
  },
  {
   "cell_type": "code",
   "execution_count": 15,
   "id": "659b75e0-2242-4090-ac7d-04aa585f0ea9",
   "metadata": {
    "tags": []
   },
   "outputs": [
    {
     "data": {
      "text/plain": [
       "Timestamp('2023-10-26 14:17:00')"
      ]
     },
     "execution_count": 15,
     "metadata": {},
     "output_type": "execute_result"
    }
   ],
   "source": [
    "dates = pd.to_datetime(df['Job_Start_Time'])\n",
    "\n",
    "max(dates)"
   ]
  },
  {
   "cell_type": "code",
   "execution_count": 48,
   "id": "c037c5b6-34f0-432a-8d16-428e3bd11a53",
   "metadata": {
    "tags": []
   },
   "outputs": [
    {
     "name": "stdout",
     "output_type": "stream",
     "text": [
      "      Central_Coast_Stations  South_Coast_Mainland_Stations  \\\n",
      "0                      False                          False   \n",
      "1                      False                          False   \n",
      "2                      False                          False   \n",
      "3                      False                          False   \n",
      "4                      False                          False   \n",
      "...                      ...                            ...   \n",
      "1004                   False                          False   \n",
      "1005                   False                          False   \n",
      "1006                   False                          False   \n",
      "1007                   False                          False   \n",
      "1008                   False                          False   \n",
      "\n",
      "      Haida_Gwaii_Stations  Vancouver_Island_Stations  \\\n",
      "0                    False                      False   \n",
      "1                    False                      False   \n",
      "2                    False                      False   \n",
      "3                    False                      False   \n",
      "4                    False                      False   \n",
      "...                    ...                        ...   \n",
      "1004                 False                      False   \n",
      "1005                 False                      False   \n",
      "1006                 False                      False   \n",
      "1007                 False                      False   \n",
      "1008                 False                      False   \n",
      "\n",
      "      Russell_Creek_Substation  Calvert_Watershed_Name  \\\n",
      "0                        False                   False   \n",
      "1                        False                   False   \n",
      "2                        False                   False   \n",
      "3                        False                   False   \n",
      "4                        False                   False   \n",
      "...                        ...                     ...   \n",
      "1004                     False                   False   \n",
      "1005                     False                   False   \n",
      "1006                     False                   False   \n",
      "1007                     False                   False   \n",
      "1008                     False                   False   \n",
      "\n",
      "      Other_Station_Identifier  Other_Station_Name  \n",
      "0                        False               False  \n",
      "1                        False               False  \n",
      "2                        False               False  \n",
      "3                        False               False  \n",
      "4                        False               False  \n",
      "...                        ...                 ...  \n",
      "1004                     False               False  \n",
      "1005                     False               False  \n",
      "1006                     False               False  \n",
      "1007                     False               False  \n",
      "1008                     False               False  \n",
      "\n",
      "[1009 rows x 8 columns]\n"
     ]
    }
   ],
   "source": [
    "sta_array = df.loc[:, 'Central_Coast_Stations':'Other_Station_Name']\n",
    "\n",
    "\n",
    "print(df.loc[:, 'Central_Coast_Stations':'Other_Station_Name'] == station)\n",
    "      \n",
    "for col_name in df.loc[:, 'Central_Coast_Stations':'Other_Station_Name'].columns\n",
    "\n",
    "\n",
    "# print(sta_array == station)"
   ]
  },
  {
   "cell_type": "raw",
   "id": "af125ea2-5ed7-4f12-a365-bbeffb4a5d09",
   "metadata": {},
   "source": []
  },
  {
   "cell_type": "code",
   "execution_count": 37,
   "id": "ea05aeb4-3fb4-43b7-9cb9-db5add0b707d",
   "metadata": {
    "tags": []
   },
   "outputs": [
    {
     "name": "stdout",
     "output_type": "stream",
     "text": [
      "79253789\n",
      "0\n",
      "79253789\n"
     ]
    }
   ],
   "source": []
  }
 ],
 "metadata": {
  "kernelspec": {
   "display_name": "Python [conda env:chrl]",
   "language": "python",
   "name": "conda-env-chrl-py"
  },
  "language_info": {
   "codemirror_mode": {
    "name": "ipython",
    "version": 3
   },
   "file_extension": ".py",
   "mimetype": "text/x-python",
   "name": "python",
   "nbconvert_exporter": "python",
   "pygments_lexer": "ipython3",
   "version": "3.12.3"
  }
 },
 "nbformat": 4,
 "nbformat_minor": 5
}
