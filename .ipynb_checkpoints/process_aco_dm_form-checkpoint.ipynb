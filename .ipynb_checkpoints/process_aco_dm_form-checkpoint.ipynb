{
 "cells": [
  {
   "cell_type": "markdown",
   "id": "9b5dc376-67f4-4f82-b597-ec63e664a761",
   "metadata": {},
   "source": [
    "### process_aco_dm_form.ipynb\n",
    "The following script is used to process incoming device_magic forms for ACO Snow Surveys.\n",
    "\n",
    "It is scripted to automatically parse data for multiple survey locations (Cruickshank, Englishman, Tsitika, Metro_Van) and perform the following operations separately for each:\n",
    "\n",
    "1. Extract and rename desired columns from the DM form.\n",
    "2. Generate UTM coordinates for each sample, using provided GNSS data.\n",
    "3. Output a summary report for each survey location that includes summary statistics for each plot_id.\n",
    "4. Output a detailed spreadsheet for each survey location that includes XXX.\n",
    "5. Output a less-detailed spreadsheet that contains data necessary for use in the XXX model."
   ]
  },
  {
   "cell_type": "code",
   "execution_count": 1,
   "id": "5d84777f-6559-4741-b086-7e77a858fc37",
   "metadata": {
    "tags": []
   },
   "outputs": [],
   "source": [
    "#import libraries\n",
    "import numpy as np\n",
    "import pandas as pd\n",
    "import utm\n",
    "import warnings\n",
    "import os"
   ]
  },
  {
   "cell_type": "markdown",
   "id": "35fdda80-869d-42a9-b32e-313d6270a544",
   "metadata": {
    "tags": []
   },
   "source": [
    "**USER INPUTS:**"
   ]
  },
  {
   "cell_type": "code",
   "execution_count": 2,
   "id": "d11a64d8-be76-4a0b-9312-11296d2505fb",
   "metadata": {
    "tags": []
   },
   "outputs": [],
   "source": [
    "# input flight number (AUTOMATE?)\n",
    "flt_no = '1'\n",
    "\n",
    "# provide target .csv file for DM form\n",
    "path = r\"G:\\ACO\\2024\"\n",
    "file = \"CRU_24_P01.csv\""
   ]
  },
  {
   "cell_type": "markdown",
   "id": "5d92f954-2bfe-496f-be43-4b1974bf816a",
   "metadata": {},
   "source": [
    "**CODE:**"
   ]
  },
  {
   "cell_type": "code",
   "execution_count": 38,
   "id": "8db880cd-36c9-4923-af19-832ea4dd3ee2",
   "metadata": {
    "tags": []
   },
   "outputs": [],
   "source": [
    "# read file and get column names\n",
    "df_file = pd.read_csv(file)\n",
    "file_cols = df_file.columns\n",
    "\n",
    "# set strings for each study area\n",
    "study_area = ['Cruickshank', 'Englishman', 'Metro Vancouver', 'Russell Creek']\n",
    "study_area_abr = ['CRU', 'EGM' , 'MV', 'TSI']\n",
    "\n",
    "# read in fieldnames spreadsheet (contains python colnames and current and historical DMform names for both .csv and google sheets)\n",
    "df_cols = pd.read_csv('form_fieldnames .csv')\n",
    "\n",
    "# df_cols['read_flag'].astype('bool')\n",
    "ix_keep = df_cols['read_flag'].apply(lambda x: True if x == 1 else False)\n",
    "\n",
    "# initialize dataframe\n",
    "df = pd.DataFrame(columns=df_cols['post_process'][ix_keep])\n",
    "\n",
    "# loop fields that we want to keep\n",
    "for ii in df_cols['post_process'][ix_keep].index:\n",
    "    # if the file contains data for this field (any historical naming convention)\n",
    "    if any(np.in1d(df_cols.iloc[ii,:], file_cols)): \n",
    "        # take that data and enter it into new df with post-processing column name\n",
    "        df[df_cols['post_process'][ii]] = df_file[np.unique(df_cols.iloc[ii,np.in1d(df_cols.iloc[ii,:], file_cols)])]\n",
    "        \n",
    "#  add ACO flight no.\n",
    "df.insert(0, 'aco_flight_number', str(flt_no))\n",
    "\n",
    "# fill nan depths with 0 (WHY?)\n",
    "# df[['depth_final_cm', 'depth_max']] = df[['depth_final_cm', 'depth_max']].fillna(value=0)\n",
    "\n",
    "# populate snow_depth (== depth values from both density and depth surveys combined in one field)\n",
    "df.insert(df.columns.get_loc('multicore'), 'snow_depth',  np.nansum(df['depth_final_cm'] + df['depth_max']))\n",
    "\n",
    "# loop study areas and export cleaned spreadsheet and summary spreadheet for each\n",
    "for ii in df[\"study_area\"].unique():\n",
    "    ix = study_area.index(ii)\n",
    "    \n",
    "    # get data for study area\n",
    "    df_area = df[df['study_area'] == ii]\n",
    "    \n",
    "    # export cleaned spreadsheet\n",
    "    # df_area.to_csv(study_area_abr[ix] + '_trip' + str(flt_no) + '_DMform_clean.csv', index=False)\n",
    "    df_area.to_csv('test_output_DMform_clean.csv', index=False)\n",
    "\n",
    "    # get summary statistics\n",
    "    with warnings.catch_warnings():\n",
    "        warnings.simplefilter(\"ignore\", category=RuntimeWarning)\n",
    "        df_area_summary = df_area.groupby(['aco_flight_number','plot_id']).agg({\n",
    "        \"snow_depth\": [\"mean\", \"median\", \"std\", \"count\"],\n",
    "        \"density_gscale\": [\"mean\", \"median\", \"std\", \"count\"],\n",
    "        \"density_swescale\": [\"mean\", \"median\", \"std\", \"count\"],\n",
    "        \"swe_final_swescale\": [\"mean\", \"median\", \"std\", \"count\"],\n",
    "        \"swe_final_swescale\": [\"mean\", \"median\", \"std\", \"count\"]})\n",
    "    \n",
    "    #Export the filtered summary stats to created folder\n",
    "    # df_area_summary.to_csv(study_area_abr[ix] + '_trip' + str(flt_no) + '_DMform_summary.csv', index=True)\n",
    "    df_area_summary.to_csv('test_output_summary.csv', index=True)\n",
    "    \n",
    "# template = \"templates\\cardinal_dir_template.csv\"\n",
    "file_template = \"cardinal_dir_template.csv\"\n",
    "template = pd.read_csv(file_template, dtype={\"cardinal\": \"string\", \"distance_m\": \"float64\"})\n",
    "\n",
    "# When known - SPECIFY COLUMNS HERE\n",
    "file_gnss = \"GNSS_cru_phase1_points.csv\"\n",
    "gnss = pd.read_csv(file_gnss, usecols=['plot_id', 'Easting_m', 'Northing_m'])\n",
    "\n",
    "#  find entries that appear to be cardinal plots, but don't have the plot type entered (and assign plot type)\n",
    "df.loc[pd.isnull(df['plot_type']) & ~pd.isnull(df['cardinal_dir']), 'plot_type'] = 'Cardinal 10 m'\n",
    "\n",
    "# filter by cardinal plots assign to cardinal variable and to road transect variable.\n",
    "df_not_cardinal = df_card = df[df[\"plot_type\"]!=\"Cardinal 10 m\"]\n",
    "df = df[df[\"plot_type\"]==\"Cardinal 10 m\"]\n",
    "\n",
    "# add eastings and northings according to plot id\n",
    "df = df.merge(gnss, on='plot_id')\n",
    "\n",
    "# adjust eastings and northings according to sample distance from centre\n",
    "# define dictionary containing angles for each cardinal direction\n",
    "cardinal_ang = {\n",
    "    'E': 0,\n",
    "    'NE': 45,\n",
    "    'N': 90,\n",
    "    'NW': 135,\n",
    "    'W': 180,\n",
    "    'SW': 225,\n",
    "    'S': 270,\n",
    "    'SE': 315}\n",
    "\n",
    "# get angles for each data point\n",
    "ang = df[\"cardinal_dir\"].apply(lambda x: cardinal_ang.get(x))\n",
    "\n",
    "# use angles and distance from center to adjust eastings and northings\n",
    "df['Easting_m'] = df['Easting_m'] + np.round(np.cos(np.deg2rad(ang)), 3) * df['distance_m']\n",
    "df['Northing_m'] = df['Northing_m'] + np.round(np.sin(np.deg2rad(ang)), 3) * df['distance_m']\n",
    "\n",
    "# fill any \"0\" coords (e.g. CRU plot R1O) with 999999\n",
    "df.loc[df['Easting_m'] < 100, 'Easting_m'] = 999999\n",
    "df.loc[df['Northing_m'] < 100, 'Northing_m'] = 999999\n",
    "\n",
    "# get lat/lons?\n",
    "# print(np.unique(df['Easting_m']))\n",
    "(df['lat'], df['lon']) = utm.to_latlon(df['Easting_m'], df['Northing_m'], 10, 'U')"
   ]
  },
  {
   "cell_type": "code",
   "execution_count": 55,
   "id": "e3e1e983-f902-4bf4-b247-335120fa0daa",
   "metadata": {
    "tags": []
   },
   "outputs": [
    {
     "name": "stdout",
     "output_type": "stream",
     "text": [
      "E3S False\n",
      "E5F False\n",
      "E5O False\n",
      "N1A False\n",
      "N3O True\n",
      "R1O True\n",
      "S1A False\n",
      "S2F False\n",
      "S3F False\n",
      "S4F False\n",
      "S5O False\n"
     ]
    }
   ],
   "source": [
    "# CHECKS\n",
    "tmp = pd.DataFrame(columns=['p', 'd', 'n']) # Note that there is no row data inserted.# distance to centre not entered\n",
    "np.isnan(df['distance_m'])\n",
    "\n",
    "# depth values for all entries?\n",
    "np.sum(np.isnan(df['snow_depth']))\n",
    "\n",
    "# coords for all entries\n",
    "np.sum(np.isnan(df['Easting_m']))\n",
    "\n",
    "# flag filled coordinate values\n",
    "np.sum(df['Easting_m'] == 999999)\n",
    "\n",
    "# at least 1 measurement for each cardinal dir (??)\n",
    "c = 0\n",
    "for ii in np.unique(df['plot_id']):\n",
    "    print(ii, len(np.unique(df.loc[df['plot_id'] == ii, 'cardinal_dir'])) != 9)    \n"
   ]
  }
 ],
 "metadata": {
  "kernelspec": {
   "display_name": "Python [conda env:chrl]",
   "language": "python",
   "name": "conda-env-chrl-py"
  },
  "language_info": {
   "codemirror_mode": {
    "name": "ipython",
    "version": 3
   },
   "file_extension": ".py",
   "mimetype": "text/x-python",
   "name": "python",
   "nbconvert_exporter": "python",
   "pygments_lexer": "ipython3",
   "version": "3.12.3"
  }
 },
 "nbformat": 4,
 "nbformat_minor": 5
}
