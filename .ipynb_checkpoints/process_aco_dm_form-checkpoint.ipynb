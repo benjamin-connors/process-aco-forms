{
 "cells": [
  {
   "cell_type": "markdown",
   "id": "9b5dc376-67f4-4f82-b597-ec63e664a761",
   "metadata": {},
   "source": [
    "### process_dm_form.ipynb\n",
    "The following script is used to process incoming device_magic forms for ACO Snow Surveys.\n",
    "\n",
    "It is scripted to automatically parse data for multiple survey locations (Cruickshank, Englishman, Tsitika, Metro_Van) and perform the following operations separately for each:\n",
    "\n",
    "1. Extract and rename desired columns from the DM form.\n",
    "2. Generate UTM coordinates for each sample, using provided GNSS data.\n",
    "3. Output a summary report for each survey location that includes summary statistics for each plot_id.\n",
    "4. Output a detailed spreadsheet for each survey location that includes XXX.\n",
    "5. Output a less-detailed spreadsheet that contains data necessary for use in the XXX model."
   ]
  },
  {
   "cell_type": "code",
   "execution_count": 1,
   "id": "5d84777f-6559-4741-b086-7e77a858fc37",
   "metadata": {
    "tags": []
   },
   "outputs": [],
   "source": [
    "#import libraries\n",
    "import numpy as np\n",
    "import pandas as pd\n",
    "import os"
   ]
  },
  {
   "cell_type": "markdown",
   "id": "35fdda80-869d-42a9-b32e-313d6270a544",
   "metadata": {
    "tags": []
   },
   "source": [
    "**USER INPUTS:**"
   ]
  },
  {
   "cell_type": "code",
   "execution_count": 4,
   "id": "d11a64d8-be76-4a0b-9312-11296d2505fb",
   "metadata": {
    "tags": []
   },
   "outputs": [],
   "source": [
    "# input flight number (AUTOMATE?)\n",
    "flt_no = '1'\n",
    "\n",
    "# provide target .csv file for DM form\n",
    "path = r\"G:\\ACO\\2024\"\n",
    "file = \"CRU_24_P01.csv\""
   ]
  },
  {
   "cell_type": "markdown",
   "id": "5d92f954-2bfe-496f-be43-4b1974bf816a",
   "metadata": {},
   "source": [
    "**CODE:**"
   ]
  },
  {
   "cell_type": "code",
   "execution_count": 40,
   "id": "66e4550b-04ca-4010-9c0b-ec5bd6a09636",
   "metadata": {},
   "outputs": [],
   "source": [
    "# read file\n",
    "df = pd.read_csv(file)\n",
    "\n",
    "# select columns to keep and new column names\n",
    "cols2keep = [\"Survey_Start_Time\",\n",
    "          \"username\", \n",
    "          \"Study_Area\", \n",
    "          \"Other_Study_Area\", \n",
    "          \"User_s_\", \n",
    "          \"Plot_ID\", \n",
    "          \"Tube_Name\", \n",
    "          \"Pre_Survey_Notes\", \n",
    "          \"GNSS_Used_\", \n",
    "          \"GNSS_Setup\", \n",
    "          \"Other_GNSS_Setup\",\n",
    "          \"GNSS_Status\",\n",
    "          \"GNSS_Height_Rover_to_Snow__cm_\", \n",
    "          \"Tare_Weight__g_\",\n",
    "          \"Tare_Weight__cm_\", \n",
    "          \"Type_of_Plot\", \n",
    "          \"Point_Observation.Cardinal_Direction\", \n",
    "          \"Point_Observation.Distance_From_Centre__m_\",\n",
    "          \"Point_Observation.Custom_Distance_From_Centre__m_\",\n",
    "          \"Point_Observation.Plot_Features\", \n",
    "          \"Point_Observation.Sample_Type\", \n",
    "          \"Point_Observation.Depth__cm_\", \n",
    "          \"Point_Observation.Depth__cm_:timestamp\", \n",
    "          \"Point_Observation.Depth_Final__cm_\",\n",
    "          \"Point_Observation.Core_Length__cm_\", \n",
    "          \"Point_Observation.Plug__cm_\", \n",
    "          \"Point_Observation.SWE_cm\",\n",
    "          \"Point_Observation.Mass___Tube__g_\",\n",
    "          \"Point_Observation.Multi_Part_Core_\",\n",
    "          \"Point_Observation.Multi_Part_Core_Section_Number\", \n",
    "          \"Point_Observation.Additional_Measurements.Multi_Part_Core_Section_Number_copy\",\n",
    "          \"Point_Observation.Additional_Measurements.New_Depth__cm_\", \n",
    "          \"Point_Observation.Additional_Measurements.New_Depth__cm_:timestamp\", \n",
    "          \"Point_Observation.Additional_Measurements.Core_Section_Length__cm_\",\n",
    "          \"Point_Observation.Additional_Measurements.Plug_\", \n",
    "          \"Point_Observation.Additional_Measurements.SWE\",\n",
    "          \"Point_Observation.Additional_Measurements.Mass___Tube\", \n",
    "          \"Point_Observation.Core_Length_Final__cm_\",\n",
    "          \"Point_Observation.Core_Features\", \n",
    "          \"Point_Observation.Depth_of_Saturation\", \n",
    "          \"Point_Observation.Mass_Final__g_\", \n",
    "          \"Point_Observation.SWE_Final__cm_\",    \n",
    "          \"Point_Observation.Depth_Max\",\n",
    "          \"Point_Observation.Retrieval____\", \n",
    "          \"Point_Observation.SWE__cm_\", \n",
    "          \"Point_Observation.Density\", \n",
    "          \"Point_Observation.Density_MetroVan\",\n",
    "          \"Point_Observation.Sample_Rating\", \n",
    "          \"Point_Observation.Point_Observation_Notes\", \n",
    "          \"Snow_Pit_Measurement.Distance_from_centre_of_plot__m_\", \n",
    "          \"Snow_Pit_Measurement.Depth_above_ground__cm_\", \n",
    "          \"Snow_Pit_Measurement.Temperature___C_\",\n",
    "          \"Snow_Pit_Measurement.Density_Notes\", \n",
    "          \"Survey_End_TIme\"]\n",
    "\n",
    "new_colnames = [\"plot_datetime\",\n",
    "                    \"user_name\",\n",
    "                    \"study_area\",\n",
    "                    \"other_study_area\",\n",
    "                    \"users\",\n",
    "                    \"plot_id\",\n",
    "                    \"tube_name\",\n",
    "                    \"pre_survey_notes\",\n",
    "                    \"gnss_unit\",\n",
    "                    \"gnss_setup\",\n",
    "                    \"other_gnss_setup\",\n",
    "                    \"gnss_status\",\n",
    "                    \"rover_height\",\n",
    "                    \"tare_weight_g\",\n",
    "                    \"tare_weight_cm\",\n",
    "                    \"plot_type\",\n",
    "                    \"cardinal\",\n",
    "                    \"distance_m\",\n",
    "                    \"custom_distance\",\n",
    "                    \"plot_features\",\n",
    "                    \"sample_type\",\n",
    "                    \"depth_cm\",\n",
    "                    \"depth_timestamp\",\n",
    "                    \"depth_final_cm\",\n",
    "                    \"core_length_cm\",\n",
    "                    \"plug_cm\",\n",
    "                    \"swe_cm\",\n",
    "                    \"mass_tube_g_drop\",\n",
    "                    \"multi_core\",\n",
    "                    \"multi_part_core_num\",\n",
    "                    \"multi_core_num_copy\",\n",
    "                    \"depth_cm_new\",\n",
    "                    \"depth_cm_timestamp_new\",\n",
    "                    \"core_section_length_cm\",\n",
    "                    \"plug_cm_copy\",\n",
    "                    \"mass_tube_g_new\",\n",
    "                    \"core_length_final\",\n",
    "                    \"core_features\",\n",
    "                    \"depth_of_saturation\",\n",
    "                    \"mass_final_g\",\n",
    "                    \"swe_final_cm\",\n",
    "                    \"depth_max\",\n",
    "                    \"retrieval\",\n",
    "                    \"swe_cm_drop\",\n",
    "                    \"density_drop\",\n",
    "                    \"density\",\n",
    "                    \"sample_rating\",\n",
    "                    \"notes\",\n",
    "                    \"snow_pit_distance_from_centre\",\n",
    "                    \"snow_pit_depth_above_ground\",\n",
    "                    \"snow_pit_temperature\",\n",
    "                    \"snow_pit_density\",\n",
    "                    \"survey_end\"]"
   ]
  },
  {
   "cell_type": "code",
   "execution_count": 50,
   "id": "1b07b7b0-74dc-4beb-8d2d-2517a58b2fb0",
   "metadata": {},
   "outputs": [],
   "source": [
    "# extract and rename columns\n",
    "df = df[cols2keep].set_axis(new_colnames, axis='columns')\n",
    "#  add ACO flight no.\n",
    "df.insert(0, 'aco_flight_number', str(flt_no))"
   ]
  },
  {
   "cell_type": "code",
   "execution_count": 53,
   "id": "a8c7a951-df74-4f9d-a301-325f0fd8c2bd",
   "metadata": {},
   "outputs": [],
   "source": [
    "# NEED TO KNOW WHAT VARABLES ARE TO BE INCLUDED (SOME ARE READ ABOVE AND THEN DROPPED HERE...)\n",
    "\n",
    "# df = new_df.drop(columns=['submissionid', \n",
    "#                                 'submissiondatetime', \n",
    "#                                 'deviceid', \n",
    "#                                 'user_name', \n",
    "#                                 'Sampling_Design',\n",
    "#                                 'Point_Observation.Abbreviations', \n",
    "#                                 'Point_Observation.Picture', \n",
    "#                                 'Point_Observation.Number_of_probe_extensions_used_',\n",
    "#                                 'mass_tube_g_drop',\n",
    "#                                 'mass_final_g',\n",
    "#                                 'swe_cm_drop',\n",
    "#                                 'density_drop'])"
   ]
  },
  {
   "cell_type": "code",
   "execution_count": 56,
   "id": "6dad90af-a478-4cc8-b882-6290a58d6a58",
   "metadata": {},
   "outputs": [],
   "source": [
    "# fill nan depths with 0\n",
    "df[['depth_final_cm', 'depth_max']] = df[['depth_final_cm', 'depth_max']].fillna(value=0)\n",
    "# calculate and add snow depth\n",
    "df = df.insert(25, 'snow_depth', df.loc[:, 'depth_final_cm'] + df.loc[:, 'depth_max'])"
   ]
  },
  {
   "cell_type": "code",
   "execution_count": 59,
   "id": "1b53babe",
   "metadata": {},
   "outputs": [],
   "source": [
    "#export the clean raw device magic form to a csv\n",
    "df.to_csv(\"processing_data\\DM_trip\" + str(flt_no) + \"_clean.csv\", index = False)"
   ]
  },
  {
   "cell_type": "code",
   "execution_count": 37,
   "id": "a77a5f28-2b6a-4e18-b324-b4c719c52c69",
   "metadata": {},
   "outputs": [],
   "source": [
    "# subset data by watershed, get summary statistics for each, export to summary spreadsheet (AUTOMATE)\n",
    "\n",
    "#filter by watershed: \"Russell Creek\", \"Cruickshank\",or \"Englishman\"\n",
    "cru_df =df[df['study_area'] == 'Cruickshank']\n",
    "eng_df = df[df['study_area'] == 'Englishman']\n",
    "rus_df = df[df['study_area'] == 'Russell Creek']\n",
    "mv_df = df[df['study_area'] == 'Metro Vancouver']"
   ]
  },
  {
   "cell_type": "code",
   "execution_count": 56,
   "id": "0c6f2c55-c20d-4806-919b-4071357cce5e",
   "metadata": {},
   "outputs": [],
   "source": [
    "#group by \"plot_id\", export csv of summary stats for snow. \n",
    "#Stats that are nice to include are: \n",
    "#snow depth:count, average, st dev; density: count, avg, st dev, & SWE : count, avg, st.dev\n",
    "\n",
    "###CRUICKSHANK###\n",
    "\n",
    "cru_sum = cru_df.groupby(['aco_flight_number',\n",
    "    'plot_id']).agg({\n",
    "    \"snow_depth\": [\"mean\", \"median\", \"std\", \"count\"],\n",
    "    \"density\": [\"mean\", \"median\", \"std\", \"count\"],\n",
    "    \"swe_cm\": [\"mean\", \"median\", \"std\", \"count\"]\n",
    "})\n",
    "\n",
    "#check if directory exists\n",
    "if not os.path.isdir(path + r\"\\Cruickshank\\4_field_data\\plots\\working\\P\" + str(flt_no)):\n",
    "    #if the folder path is not presnet, then create it\n",
    "    os.makedirs(path + r\"\\Cruickshank\\4_field_data\\plots\\working\\P\" + str(flt_no))\n",
    "    \n",
    "#Export the filtered summary stats to created folder\n",
    "cru_sum.to_csv(path + \"\\Cruickshank\\\\4_field_data\\plots\\working\\P\" + str(flt_no) + \"\\DM_trip\" + str(flt_no) +\"_cru_sum.csv\", index = True)"
   ]
  },
  {
   "cell_type": "code",
   "execution_count": 23,
   "id": "ab65e491-bb74-4cb2-9d4a-f265561e30f8",
   "metadata": {},
   "outputs": [],
   "source": [
    "###ENGLISHMAN###\n",
    "\n",
    "eng_sum = eng_df.groupby(['aco_flight_number',\n",
    "    'plot_id']).agg({\n",
    "    \"snow_depth\": [\"mean\", \"median\", \"std\", \"count\"],\n",
    "    \"density\": [\"mean\", \"median\", \"std\", \"count\"],\n",
    "    \"swe_cm\": [\"mean\", \"median\", \"std\", \"count\"]\n",
    "})\n",
    "\n",
    "#check if directory exists\n",
    "if not os.path.isdir(path + r\"\\Englishman\\4_field_data\\plots\\working\\P\" + str(flt_no)):\n",
    "    #if the folder path is not presnet, then create it\n",
    "    os.makedirs(path + r\"\\Englishman\\4_field_data\\plots\\working\\P\" + str(flt_no))\n",
    "    \n",
    "#Export the filtered summary stats to created folder\n",
    "eng_sum.to_csv(path + \"\\Englishman\\\\4_field_data\\plots\\working\\P\" + str(flt_no) + \"\\DM_trip\" + str(flt_no) +\"_eng_sum.csv\", index = True)"
   ]
  },
  {
   "cell_type": "code",
   "execution_count": 17,
   "id": "fb3b5dce-cb93-4fb4-a420-87946de64024",
   "metadata": {},
   "outputs": [],
   "source": [
    "###TSITIKA####\n",
    "\n",
    "rus_sum = rus_df.groupby(['aco_flight_number',\n",
    "    'plot_id']).agg({\n",
    "    \"snow_depth\": [\"mean\", \"median\", \"std\", \"count\"],\n",
    "    \"density\": [\"mean\", \"median\", \"std\", \"count\"],\n",
    "    \"swe_cm\": [\"mean\", \"median\", \"std\", \"count\"]\n",
    "})\n",
    "\n",
    "#check if directory exists\n",
    "if not os.path.isdir(path + r\"\\Tsitika\\4_field_data\\plots\\working\\P\" + str(flt_no)):\n",
    "    #if the folder path is not presnet, then create it\n",
    "    os.makedirs(path + r\"\\Tsitika\\4_field_data\\plots\\working\\P\" + str(flt_no))\n",
    "    \n",
    "#Export the filtered summary stats to created folder\n",
    "rus_sum.to_csv(path + \"\\Tsitika\\\\4_field_data\\plots\\working\\P\" + str(flt_no) + \"\\DM_trip\" + str(flt_no) +\"_rus_sum.csv\", index = True)"
   ]
  }
 ],
 "metadata": {
  "kernelspec": {
   "display_name": "Python [conda env:chrl]",
   "language": "python",
   "name": "conda-env-chrl-py"
  },
  "language_info": {
   "codemirror_mode": {
    "name": "ipython",
    "version": 3
   },
   "file_extension": ".py",
   "mimetype": "text/x-python",
   "name": "python",
   "nbconvert_exporter": "python",
   "pygments_lexer": "ipython3",
   "version": "3.12.3"
  }
 },
 "nbformat": 4,
 "nbformat_minor": 5
}
